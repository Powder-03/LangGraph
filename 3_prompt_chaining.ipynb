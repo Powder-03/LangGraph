{
 "cells": [
  {
   "cell_type": "code",
   "execution_count": 1,
   "id": "4221521d",
   "metadata": {},
   "outputs": [
    {
     "name": "stderr",
     "output_type": "stream",
     "text": [
      "/home/powder-03/langgraph/venv/lib/python3.10/site-packages/tqdm/auto.py:21: TqdmWarning: IProgress not found. Please update jupyter and ipywidgets. See https://ipywidgets.readthedocs.io/en/stable/user_install.html\n",
      "  from .autonotebook import tqdm as notebook_tqdm\n"
     ]
    }
   ],
   "source": [
    "from langgraph.graph import StateGraph , START , END\n",
    "from langchain_google_genai import  ChatGoogleGenerativeAI\n",
    "from typing import TypedDict\n",
    "from dotenv import load_dotenv"
   ]
  },
  {
   "cell_type": "code",
   "execution_count": 2,
   "id": "31a68dfb",
   "metadata": {},
   "outputs": [],
   "source": [
    "load_dotenv()\n",
    "model = ChatGoogleGenerativeAI(model=\"gemini-2.5-flash\", temperature=0.7)"
   ]
  },
  {
   "cell_type": "code",
   "execution_count": 3,
   "id": "787390e1",
   "metadata": {},
   "outputs": [],
   "source": [
    "class BlogState(TypedDict):\n",
    "    \"\"\"State for the blog workflow.\"\"\"\n",
    "    title: str\n",
    "    outline: str\n",
    "    content: str"
   ]
  },
  {
   "cell_type": "code",
   "execution_count": 4,
   "id": "ffaf9e2c",
   "metadata": {},
   "outputs": [],
   "source": [
    "def create_outline(state: BlogState) -> BlogState:\n",
    "    \n",
    "    # fetch title\n",
    "    title = state['title']\n",
    "    \n",
    "    # call llm gen outline\n",
    "    \n",
    "    prompt = f'Generate a detailed outline for a blog on the topic - {title}'\n",
    "    outline = model.invoke(prompt).content\n",
    "    \n",
    "    # update state\n",
    "    state['outline'] = outline\n",
    "    \n",
    "    return state"
   ]
  },
  {
   "cell_type": "code",
   "execution_count": 5,
   "id": "112b7f1e",
   "metadata": {},
   "outputs": [],
   "source": [
    "def create_blog(state : BlogState) -> BlogState:\n",
    "    \n",
    "    title = state['title']\n",
    "    outline = state['outline']\n",
    "    \n",
    "    prompt = f'Write a detailed blog on the title - {title} using the following outline \\n {outline}'\n",
    "    \n",
    "    content = model.invoke(prompt).content\n",
    "    \n",
    "    state['content'] = content\n",
    "    \n",
    "    return state"
   ]
  },
  {
   "cell_type": "code",
   "execution_count": 9,
   "id": "202386bc",
   "metadata": {},
   "outputs": [],
   "source": [
    "graph = StateGraph(BlogState)\n",
    "\n",
    "#node \n",
    "graph.add_node('create_outline', create_outline)\n",
    "graph.add_node('create_blog', create_blog)\n",
    "\n",
    "# edges\n",
    "\n",
    "graph.add_edge (START , 'create_outline')\n",
    "graph.add_edge('create_outline' , 'create_blog')\n",
    "graph.add_edge('create_blog' , END)\n",
    "\n",
    "workflow = graph.compile()"
   ]
  },
  {
   "cell_type": "code",
   "execution_count": 10,
   "id": "b1d9295d",
   "metadata": {},
   "outputs": [
    {
     "name": "stdout",
     "output_type": "stream",
     "text": [
      "{'title': 'Rise of AI in India', 'outline': 'Here\\'s a detailed outline for a blog post on the \"Rise of AI in India,\" designed to be engaging, informative, and well-structured.\\n\\n---\\n\\n## Blog Title Options:\\n\\n*   **India\\'s AI Ascent: Unpacking the Revolution Transforming the Nation**\\n*   **The AI Wave: How India is Embracing and Shaping the Future of Technology**\\n*   **From Silicon Valley to Bengaluru: The Unstoppable Rise of AI in India**\\n*   **Beyond the Hype: A Deep Dive into India\\'s AI Journey**\\n\\n---\\n\\n## Detailed Blog Outline: India\\'s AI Ascent\\n\\n### I. Introduction (Approx. 150-200 words)\\n\\n*   **A. Catchy Hook:** Start with a compelling statistic, a thought-provoking question, or a vivid image related to AI\\'s global impact.\\n    *   *Example:* \"From self-driving cars to personalized healthcare, Artificial Intelligence is reshaping our world at an unprecedented pace. But while global tech giants often dominate the narrative, a quiet yet powerful revolution is brewing in one of the world\\'s most populous and digitally vibrant nations: India.\"\\n*   **B. Brief Overview of AI\\'s Global Trajectory:** Acknowledge AI\\'s widespread adoption and its status as the next technological frontier.\\n*   **C. Thesis Statement:** Introduce India\\'s unique position in the global AI landscape – not just as an adopter, but as a significant contributor and innovator. Highlight the blog\\'s purpose: to explore the multifaceted rise of AI in India, its drivers, applications, challenges, and future potential.\\n*   **D. Why India?** Briefly touch upon India\\'s unique advantages (large talent pool, digital infrastructure, diverse data, government push).\\n\\n### II. The Foundation: Why India is Ripe for AI (Approx. 250-300 words)\\n\\n*   **A. Digital Infrastructure Boom:**\\n    *   Jio revolution and affordable internet access.\\n    *   UPI (Unified Payments Interface) and digital transactions – massive data generation.\\n    *   Aadhaar and India Stack – unique digital identity infrastructure.\\n*   **B. Large & Diverse Talent Pool:**\\n    *   STEM graduates, engineers, data scientists.\\n    *   Growth of AI-specific courses and research centers.\\n    *   Return of highly skilled NRIs.\\n*   **C. Prolific Data Generation:**\\n    *   Huge population, diverse languages, varied demographics – a goldmine for training AI models.\\n    *   Digitalization of government services and businesses.\\n*   **D. Government Initiatives & Vision:**\\n    *   NITI Aayog\\'s \"National Strategy for Artificial Intelligence\" (\"AI for All\").\\n    *   Focus on \"Responsible AI\" and \"AI for Good.\"\\n    *   IndiaAI program, Centers of Excellence.\\n*   **E. Vibrant Startup Ecosystem & VC Funding:**\\n    *   Booming tech startup scene in cities like Bengaluru, Hyderabad, Gurugram.\\n    *   Increased investment in AI-focused startups.\\n\\n### III. AI in Action: Key Sectors Embracing AI (Approx. 400-500 words)\\n\\n*   **A. Healthcare:**\\n    *   **Diagnostics:** AI-powered tools for early detection (e.g., retinal scans for diabetes, lung cancer detection).\\n    *   **Drug Discovery:** Accelerating research and development.\\n    *   **Personalized Medicine:** Tailoring treatments based on individual data.\\n    *   **Telemedicine & Remote Monitoring:** Bridging urban-rural healthcare gap.\\n    *   *Indian Context:* Addressing healthcare accessibility and affordability for a vast population.\\n*   **B. Agriculture:**\\n    *   **Crop Monitoring & Yield Prediction:** Satellite imagery, drone technology.\\n    *   **Precision Farming:** Optimized irrigation, pest detection, soil health analysis.\\n    *   **Supply Chain Optimization:** Reducing food waste.\\n    *   *Indian Context:* Crucial for a largely agrarian economy, helping small farmers.\\n*   **C. Finance & Banking (FinTech):**\\n    *   **Fraud Detection & Cybersecurity:** Real-time anomaly detection.\\n    *   **Personalized Banking:** Chatbots, tailored financial advice, credit scoring.\\n    *   **Risk Assessment:** More accurate lending decisions.\\n    *   *Indian Context:* Driving financial inclusion and efficiency in a rapidly digitalizing economy.\\n*   **D. Education (EdTech):**\\n    *   **Personalized Learning:** Adaptive platforms, customized content.\\n    *   **Automated Grading & Feedback:** Streamlining administrative tasks.\\n    *   **Virtual Tutors & Chatbots:** 24/7 support.\\n    *   *Indian Context:* Addressing diverse learning needs and scaling quality education.\\n*   **E. Government & Public Services:**\\n    *   **Smart Cities:** Traffic management, waste management, public safety.\\n    *   **Grievance Redressal:** AI-powered chatbots for citizen services.\\n    *   **Disaster Management:** Predictive analytics for early warnings.\\n    *   *Indian Context:* Improving governance and citizen interaction at scale.\\n*   **F. Manufacturing & Automotive:**\\n    *   **Automation & Robotics:** Enhancing efficiency and precision.\\n    *   **Predictive Maintenance:** Reducing downtime.\\n    *   **Quality Control:** AI-powered vision systems.\\n    *   *Indian Context:* Supporting \"Make in India\" initiatives and industrial growth.\\n\\n### IV. Challenges and Ethical Considerations (Approx. 250-300 words)\\n\\n*   **A. Job Displacement & Reskilling:**\\n    *   Concerns about automation replacing human jobs.\\n    *   Need for massive upskilling and reskilling initiatives across industries.\\n*   **B. Data Privacy & Security:**\\n    *   Handling vast amounts of personal data responsibly.\\n    *   Robust data protection laws (e.g., India\\'s Digital Personal Data Protection Act).\\n    *   Cybersecurity threats.\\n*   **C. Algorithmic Bias & Fairness:**\\n    *   Ensuring AI models are trained on diverse, unbiased data.\\n    *   Preventing discrimination in applications like lending, hiring, or law enforcement.\\n*   **D. Infrastructure Gaps:**\\n    *   Uneven distribution of high-speed internet and computing power, especially in rural areas.\\n    *   Need for robust cloud infrastructure.\\n*   **E. Ethical Frameworks & Regulation:**\\n    *   Developing clear guidelines for AI development and deployment.\\n    *   Balancing innovation with societal safeguards.\\n*   **F. Talent Gap & Retention:**\\n    *   Despite a large talent pool, a shortage of highly specialized AI researchers and practitioners.\\n    *   Competition from global tech hubs.\\n\\n### V. The Road Ahead: India\\'s AI Vision (Approx. 150-200 words)\\n\\n*   **A. Focus on \"AI for Good\":** Emphasizing AI\\'s role in solving societal problems (health, agriculture, climate change).\\n*   **B. Continued Investment & Research:** Government and private sector collaboration in R&D.\\n*   **C. Global Collaboration:** India\\'s potential to become a global hub for AI innovation and responsible AI development.\\n*   **D. Policy Evolution:** Adapting regulations to keep pace with rapid technological advancements.\\n*   **E. The Rise of \"Bharat AI\":** AI solutions tailored specifically for India\\'s unique needs, languages, and cultural contexts.\\n\\n### VI. Conclusion (Approx. 100-150 words)\\n\\n*   **A. Recap Key Points:** Briefly summarize India\\'s strengths in AI, the diverse applications, and the critical challenges.\\n*   **B. Reiterate Thesis:** Emphasize that India is not just witnessing the AI revolution but actively shaping it, with a strong focus on inclusive and responsible AI.\\n*   **C. Forward-Looking Statement:** End with an optimistic yet realistic outlook on India\\'s future as an AI powerhouse, highlighting its potential to set global benchmarks.\\n*   **D. Call to Action:**\\n    *   \"What are your thoughts on India\\'s AI journey? Share your insights in the comments below!\"\\n    *   \"How do you see AI impacting your daily life in India?\"\\n    *   Encourage sharing the blog post.\\n\\n---\\n\\nThis detailed outline provides a robust framework for a comprehensive and engaging blog post on the rise of AI in India. Remember to use compelling storytelling, relevant examples, and clear language when writing the actual content.', 'content': '## India\\'s AI Ascent: Unpacking the Revolution Transforming the Nation\\n\\nFrom self-driving cars to personalized healthcare, Artificial Intelligence is reshaping our world at an unprecedented pace. It’s no longer a futuristic concept but a tangible force driving innovation, efficiency, and progress across every conceivable sector. While global tech giants often dominate the narrative surrounding AI\\'s widespread adoption and its status as the next technological frontier, a quiet yet powerful revolution is brewing in one of the world\\'s most populous and digitally vibrant nations: India.\\n\\nIndia is uniquely positioned in the global AI landscape, not merely as an adopter of foreign technologies, but as a significant contributor, innovator, and a burgeoning hub for AI development tailored to its unique challenges and opportunities. This blog post aims to explore the multifaceted rise of AI in India, delving into the foundational elements that make it fertile ground, its diverse applications across key sectors, the inherent challenges and ethical considerations, and the ambitious vision guiding its future. India\\'s large talent pool, robust digital infrastructure, abundant data, and proactive government initiatives are converging to propel it onto the global AI stage, promising a future where technology serves the nation\\'s diverse needs.\\n\\n---\\n\\n### The Foundation: Why India is Ripe for AI\\n\\nIndia’s journey into the AI era isn\\'t a sudden leap but a natural progression built upon several converging strengths. The groundwork laid over the past decade has created an incredibly fertile environment for AI to flourish.\\n\\nFirstly, the **Digital Infrastructure Boom** has been nothing short of transformative. The Jio revolution democratized internet access, making it affordable and ubiquitous, even in remote areas. This massive connectivity fuels platforms like UPI (Unified Payments Interface), which processes billions of digital transactions monthly, generating an unprecedented volume of data. Coupled with Aadhaar and the India Stack – a unique digital identity and public infrastructure – India possesses a digital backbone unparalleled in its scale and reach, providing a rich data landscape for AI models.\\n\\nSecondly, India boasts a **Large & Diverse Talent Pool**. With millions of STEM graduates emerging annually, a significant portion comprises engineers and data scientists eager to delve into AI. The proliferation of AI-specific courses, specialized research centers in top universities, and the increasing trend of highly skilled Non-Resident Indians (NRIs) returning home further bolster this talent pipeline, creating a dynamic workforce ready to innovate.\\n\\nThirdly, **Prolific Data Generation** is a goldmine for AI. India\\'s immense population, diverse languages, varied demographics, and the rapid digitalization of government services and businesses create vast datasets. This diversity is crucial for training AI models that are robust, inclusive, and capable of understanding the nuances of the Indian context, from regional dialects to socio-economic variations.\\n\\nFurthermore, **Government Initiatives & Vision** have played a pivotal role. NITI Aayog\\'s \"National Strategy for Artificial Intelligence\" with its \"AI for All\" motto, emphasizes using AI for societal good. The government\\'s focus on \"Responsible AI\" and programs like IndiaAI, alongside the establishment of Centers of Excellence, signal a clear commitment to fostering a sustainable AI ecosystem.\\n\\nFinally, a **Vibrant Startup Ecosystem & VC Funding** provides the necessary entrepreneurial thrust. Cities like Bengaluru, Hyderabad, and Gurugram are buzzing with tech startups, and there\\'s been a significant increase in venture capital investment flowing into AI-focused ventures, indicating strong market confidence and a conducive environment for innovation.\\n\\n---\\n\\n### AI in Action: Key Sectors Embracing AI\\n\\nThe impact of AI in India is not confined to theoretical discussions; it\\'s actively transforming critical sectors, offering scalable solutions to long-standing challenges.\\n\\n**A. Healthcare:** AI is revolutionizing Indian healthcare, addressing accessibility and affordability for its vast population.\\n    *   **Diagnostics:** AI-powered tools are improving early detection of diseases. For instance, AI algorithms analyze retinal scans for early signs of diabetic retinopathy or assist in detecting lung cancer from CT scans with higher accuracy.\\n    *   **Drug Discovery:** AI accelerates research and development by analyzing complex biological data, predicting molecular interactions, and identifying potential drug candidates much faster than traditional methods.\\n    *   **Personalized Medicine:** AI enables tailoring treatments based on individual genetic data, lifestyle, and medical history, leading to more effective and targeted therapies.\\n    *   **Telemedicine & Remote Monitoring:** AI-driven platforms and wearables are bridging the urban-rural healthcare gap, providing remote consultations and continuous patient monitoring, crucial for a country with dispersed populations.\\n\\n**B. Agriculture:** Crucial for India\\'s largely agrarian economy, AI is empowering small farmers.\\n    *   **Crop Monitoring & Yield Prediction:** Satellite imagery and drone technology, combined with AI, provide real-time insights into crop health, enabling accurate yield predictions and early detection of issues.\\n    *   **Precision Farming:** AI optimizes irrigation, identifies pest infestations, and analyzes soil health, allowing farmers to use resources efficiently and reduce waste.\\n    *   **Supply Chain Optimization:** AI helps reduce post-harvest losses and food waste by optimizing logistics and predicting market demand.\\n\\n**C. Finance & Banking (FinTech):** AI is driving financial inclusion and efficiency in India\\'s rapidly digitalizing economy.\\n    *   **Fraud Detection & Cybersecurity:** AI algorithms detect suspicious patterns in real-time, preventing fraudulent transactions and enhancing cybersecurity.\\n    *   **Personalized Banking:** Chatbots offer 24/7 customer support, while AI-driven analytics provide tailored financial advice and customized product recommendations.\\n    *   **Risk Assessment:** AI models analyze vast datasets to provide more accurate credit scoring and lending decisions, particularly beneficial for underserved populations.\\n\\n**D. Education (EdTech):** AI is addressing diverse learning needs and scaling quality education across India.\\n    *   **Personalized Learning:** Adaptive platforms powered by AI customize content and pace based on individual student performance and learning styles.\\n    *   **Automated Grading & Feedback:** AI streamlines administrative tasks by automating grading for objective assessments and providing instant, constructive feedback.\\n    *   **Virtual Tutors & Chatbots:** These provide 24/7 support, answering student queries and offering supplementary learning resources.\\n\\n**E. Government & Public Services:** AI is improving governance and citizen interaction at scale.\\n    *   **Smart Cities:** AI optimizes traffic management, waste collection, and public safety surveillance in urban centers.\\n    *   **Grievance Redressal:** AI-powered chatbots and virtual assistants make citizen services more accessible and efficient, handling routine queries and directing complex ones.\\n    *   **Disaster Management:** Predictive analytics help in early warnings for natural calamities, improving preparedness and response times.\\n\\n**F. Manufacturing & Automotive:** AI supports \"Make in India\" initiatives and industrial growth.\\n    *   **Automation & Robotics:** AI-driven robots enhance precision, speed, and efficiency on factory floors, reducing human error.\\n    *   **Predictive Maintenance:** AI analyzes sensor data from machinery to predict equipment failures, allowing for proactive maintenance and reducing costly downtime.\\n    *   **Quality Control:** AI-powered vision systems detect defects in products with high accuracy, ensuring consistent quality in manufacturing processes.\\n\\n---\\n\\n### Challenges and Ethical Considerations\\n\\nWhile India\\'s AI journey is marked by rapid progress, it is not without its share of significant challenges and ethical dilemmas that demand careful navigation.\\n\\nA primary concern is **Job Displacement & Reskilling**. As automation and AI become more prevalent, there are legitimate fears about routine human jobs being replaced. This necessitates massive upskilling and reskilling initiatives across industries, ensuring the workforce is equipped with new, AI-compatible skills to remain employable.\\n\\n**Data Privacy & Security** pose another critical challenge. Handling vast amounts of personal and sensitive data generated by AI applications requires robust data protection laws. India\\'s Digital Personal Data Protection Act (DPDP Act) is a step in this direction, but its implementation and enforcement will be crucial. Alongside privacy, cybersecurity threats against AI systems are a constant concern, demanding continuous vigilance and advanced protective measures.\\n\\n**Algorithmic Bias & Fairness** are fundamental ethical considerations. If AI models are trained on biased or unrepresentative datasets, they can perpetuate or even amplify existing societal inequalities in applications like credit scoring, hiring, or even law enforcement. Ensuring AI models are trained on diverse, unbiased data and regularly audited for fairness is paramount to prevent discrimination.\\n\\n**Infrastructure Gaps** remain, particularly the uneven distribution of high-speed internet and computing power. While urban centers thrive, rural areas still face connectivity challenges, limiting AI\\'s reach and impact. The need for robust cloud infrastructure and edge computing capabilities across the nation is vital for scalable AI deployment.\\n\\nFinally, developing comprehensive **Ethical Frameworks & Regulation** is an ongoing task. Striking a delicate balance between fostering rapid innovation and implementing necessary societal safeguards is crucial. India needs clear guidelines for AI development and deployment that address accountability, transparency, and human oversight.\\n\\nDespite a large talent pool, a **Talent Gap & Retention** issue persists, especially for highly specialized AI researchers and practitioners. Competition from global tech hubs for top AI talent means India must work on creating world-class research environments and attractive opportunities to retain its brightest minds.\\n\\n---\\n\\n### The Road Ahead: India\\'s AI Vision\\n\\nIndia\\'s AI journey is poised to be defined by a unique vision – one that prioritizes inclusivity, responsibility, and societal impact. The future trajectory is not just about technological advancement but about leveraging AI as a tool for national development.\\n\\nA core focus will remain on \"AI for Good,\" emphasizing AI\\'s role in solving pressing societal problems. This includes leveraging AI for better public health outcomes, sustainable agricultural practices, mitigating climate change effects, and enhancing accessibility for all citizens. This philosophy aligns with India\\'s democratic values and its commitment to equitable growth.\\n\\n**Continued Investment & Research** will be critical. Both government and the private sector are expected to collaborate more closely in R&D, establishing advanced AI labs, funding cutting-edge projects, and fostering a culture of innovation that pushes the boundaries of AI capabilities.\\n\\n**Global Collaboration** is another key aspect. India has the potential to become a global hub for responsible AI development, sharing its unique insights and solutions with the world, particularly in areas like data diversity and ethical implementation. Its leadership in digital public infrastructure positions it well to influence global AI governance norms.\\n\\n**Policy Evolution** will be a dynamic process, with regulations adapting to keep pace with rapid technological advancements. The aim will be to create a regulatory sandbox that encourages innovation while safeguarding citizen rights and ethical principles.\\n\\nCrucially, the rise of \"Bharat AI\" will signify a paradigm shift. These are AI solutions tailored specifically for India\\'s unique needs, addressing its diverse languages, cultural contexts, and socio-economic realities. This localization will ensure AI truly serves the vast majority of Indians, making technology more accessible and impactful across the length and breadth of the nation.\\n\\n---\\n\\n### Conclusion\\n\\nIndia\\'s AI ascent is a testament to its digital prowess, a burgeoning talent pool, and a strategic national vision. From revolutionizing healthcare and agriculture to transforming finance and education, AI is not merely an add-on but an integral component of India\\'s growth story. While challenges like job displacement, data privacy, and algorithmic bias demand careful navigation, the country\\'s proactive approach to responsible AI and its \"AI for All\" philosophy set a robust foundation.\\n\\nIndia is not just witnessing the AI revolution; it is actively shaping it, with a strong focus on inclusive and responsible AI that addresses its unique societal complexities. The journey ahead promises to be dynamic, innovative, and impactful. With continued investment, strategic policy, and a commitment to ethical deployment, India is well on its way to becoming a global AI powerhouse, poised to set new benchmarks for how technology can serve humanity at scale.\\n\\nWhat are your thoughts on India\\'s AI journey? Share your insights in the comments below! How do you see AI impacting your daily life in India?'}\n"
     ]
    }
   ],
   "source": [
    "initial_state = {'title':'Rise of AI in India'}\n",
    "\n",
    "final_state = workflow.invoke(initial_state)\n",
    "\n",
    "print(final_state)"
   ]
  },
  {
   "cell_type": "code",
   "execution_count": null,
   "id": "9ad9e7ab",
   "metadata": {},
   "outputs": [],
   "source": []
  }
 ],
 "metadata": {
  "kernelspec": {
   "display_name": "venv",
   "language": "python",
   "name": "python3"
  },
  "language_info": {
   "codemirror_mode": {
    "name": "ipython",
    "version": 3
   },
   "file_extension": ".py",
   "mimetype": "text/x-python",
   "name": "python",
   "nbconvert_exporter": "python",
   "pygments_lexer": "ipython3",
   "version": "3.10.12"
  }
 },
 "nbformat": 4,
 "nbformat_minor": 5
}
