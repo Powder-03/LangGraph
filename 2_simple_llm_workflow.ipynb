{
 "cells": [
  {
   "cell_type": "code",
   "execution_count": 7,
   "id": "8e92d9f3",
   "metadata": {},
   "outputs": [],
   "source": [
    "from langgraph.graph import StateGraph , START , END\n",
    "from langchain_google_genai import  ChatGoogleGenerativeAI\n",
    "from typing import TypedDict\n",
    "from dotenv import load_dotenv"
   ]
  },
  {
   "cell_type": "code",
   "execution_count": 2,
   "id": "a3c2bb9d",
   "metadata": {},
   "outputs": [
    {
     "data": {
      "text/plain": [
       "True"
      ]
     },
     "execution_count": 2,
     "metadata": {},
     "output_type": "execute_result"
    }
   ],
   "source": [
    "load_dotenv()"
   ]
  },
  {
   "cell_type": "code",
   "execution_count": 12,
   "id": "da2df75a",
   "metadata": {},
   "outputs": [],
   "source": [
    "model = ChatGoogleGenerativeAI(model=\"gemini-2.5-flash\", temperature=0.7)"
   ]
  },
  {
   "cell_type": "code",
   "execution_count": 4,
   "id": "cd1a02bd",
   "metadata": {},
   "outputs": [],
   "source": [
    "# create a state\n",
    "\n",
    "class LLMState(TypedDict):\n",
    "    \"\"\"State for the LLM workflow.\"\"\"\n",
    "    question: str\n",
    "    answer: str"
   ]
  },
  {
   "cell_type": "code",
   "execution_count": 5,
   "id": "6b1618e5",
   "metadata": {},
   "outputs": [],
   "source": [
    "def llm_qa(state: LLMState) -> LLMState:\n",
    "    \n",
    "    # extract the question from the state\n",
    "    question = state['question']\n",
    "    \n",
    "    # form a prompt\n",
    "    prompt = f\"Answer the following question: {question}\"\n",
    "    \n",
    "    # ask that question to the model\n",
    "    answer = model.invoke(prompt).content\n",
    "\n",
    "    # update the answer in the state\n",
    "    state['answer'] = answer\n",
    "    return state\n"
   ]
  },
  {
   "cell_type": "code",
   "execution_count": 9,
   "id": "d67abe54",
   "metadata": {},
   "outputs": [],
   "source": [
    "# Create our graph\n",
    "\n",
    "graph = StateGraph(LLMState)\n",
    "\n",
    "# add node\n",
    "\n",
    "graph.add_node('llm_qa', llm_qa)\n",
    "\n",
    "# add edges\n",
    "graph.add_edge(START, 'llm_qa')\n",
    "graph.add_edge('llm_qa', END)\n",
    "\n",
    "# compile the graph\n",
    "workflow = graph.compile()\n"
   ]
  },
  {
   "cell_type": "code",
   "execution_count": 13,
   "id": "d7be3526",
   "metadata": {},
   "outputs": [
    {
     "name": "stdout",
     "output_type": "stream",
     "text": [
      "{'question': 'What is the capital of France?', 'answer': 'The capital of France is Paris.'}\n"
     ]
    }
   ],
   "source": [
    "# Execute the graph\n",
    "\n",
    "initial_state = {'question': 'What is the capital of France?'}\n",
    "\n",
    "final_state = workflow.invoke(initial_state)\n",
    "\n",
    "print(final_state)"
   ]
  },
  {
   "cell_type": "code",
   "execution_count": null,
   "id": "ea3c51ea",
   "metadata": {},
   "outputs": [],
   "source": []
  }
 ],
 "metadata": {
  "kernelspec": {
   "display_name": "venv",
   "language": "python",
   "name": "python3"
  },
  "language_info": {
   "codemirror_mode": {
    "name": "ipython",
    "version": 3
   },
   "file_extension": ".py",
   "mimetype": "text/x-python",
   "name": "python",
   "nbconvert_exporter": "python",
   "pygments_lexer": "ipython3",
   "version": "3.10.12"
  }
 },
 "nbformat": 4,
 "nbformat_minor": 5
}
