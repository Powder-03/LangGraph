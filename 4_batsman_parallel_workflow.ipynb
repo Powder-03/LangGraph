{
 "cells": [
  {
   "cell_type": "code",
   "execution_count": 30,
   "id": "ab21a62d",
   "metadata": {},
   "outputs": [],
   "source": [
    "from langgraph.graph import StateGraph , START , END\n",
    "from langchain_google_genai import  ChatGoogleGenerativeAI\n",
    "from typing import TypedDict\n",
    "from dotenv import load_dotenv"
   ]
  },
  {
   "cell_type": "code",
   "execution_count": 31,
   "id": "a435fe18",
   "metadata": {},
   "outputs": [],
   "source": [
    "class BatsmanState(TypedDict):\n",
    "    runs: int\n",
    "    balls: int\n",
    "    fours: int\n",
    "    sixes: int\n",
    "    \n",
    "    sr: float\n",
    "    bpb: float\n",
    "    boundary_percent: float\n",
    "    summary: str    "
   ]
  },
  {
   "cell_type": "code",
   "execution_count": 32,
   "id": "703cf4a7",
   "metadata": {},
   "outputs": [],
   "source": [
    "def calculate_sr(state: BatsmanState) -> BatsmanState:\n",
    "    \"\"\"Calculate the strike rate.\"\"\"\n",
    "    sr = (state['runs'] / state['balls']) * 100\n",
    "    return {'sr': sr}"
   ]
  },
  {
   "cell_type": "code",
   "execution_count": 33,
   "id": "ca90acd9",
   "metadata": {},
   "outputs": [],
   "source": [
    "def calculate_bpb(state: BatsmanState) -> BatsmanState:\n",
    "    \"\"\"Calculate the balls per boundary.\"\"\"\n",
    "    if state['fours'] + state['sixes'] == 0:\n",
    "        bpb = float('inf')  # Avoid division by zero\n",
    "    else:\n",
    "        bpb = state['balls'] / (state['fours'] + state['sixes'])\n",
    "    return {'bpb': bpb}"
   ]
  },
  {
   "cell_type": "code",
   "execution_count": 34,
   "id": "5b7af15e",
   "metadata": {},
   "outputs": [],
   "source": [
    "def calculate_boundary_percent(state: BatsmanState) -> BatsmanState:\n",
    "    \"\"\"Calculate the boundary percentage.\"\"\"\n",
    "    if state['balls'] == 0:\n",
    "        boundary_percent = 0.0  # Avoid division by zero\n",
    "    else:\n",
    "        boundary_percent = (((state['fours']*4) + (state['sixes']*6)) / state['runs']) * 100\n",
    "    return {'boundary_percent': boundary_percent}"
   ]
  },
  {
   "cell_type": "code",
   "execution_count": 35,
   "id": "2d3bbb92",
   "metadata": {},
   "outputs": [],
   "source": [
    "def summary(state: BatsmanState) -> str:\n",
    "    \n",
    "    summary = f\"\"\"\n",
    "    Batsman Performance Summary:\n",
    "    \n",
    "    Strike Rate: {state['sr']} \\n\n",
    "    Balls Per Boundary: {state['bpb']} \\n\n",
    "    Boundary Percentage: {state['boundary_percent']}\n",
    "    \"\"\"\n",
    "    return {'summary': summary}"
   ]
  },
  {
   "cell_type": "code",
   "execution_count": 36,
   "id": "533a807f",
   "metadata": {},
   "outputs": [],
   "source": [
    "graph = StateGraph(BatsmanState)\n",
    "\n",
    "graph.add_node('calculate_sr' , calculate_sr)\n",
    "graph.add_node('calculate_bpb' , calculate_bpb)\n",
    "graph.add_node('calculate_boundary_percent' , calculate_boundary_percent)\n",
    "graph.add_node('summary' , summary)\n",
    "\n",
    "\n",
    "\n",
    "#edges \n",
    "\n",
    "graph.add_edge(START, 'calculate_sr')\n",
    "graph.add_edge(START, 'calculate_bpb')\n",
    "graph.add_edge(START, 'calculate_boundary_percent')\n",
    "\n",
    "graph.add_edge('calculate_sr', 'summary')\n",
    "graph.add_edge('calculate_bpb', 'summary')\n",
    "graph.add_edge('calculate_boundary_percent', 'summary')\n",
    " \n",
    "graph.add_edge('summary', END)\n",
    "\n",
    "\n",
    "workflow = graph.compile()\n"
   ]
  },
  {
   "cell_type": "code",
   "execution_count": 37,
   "id": "44650390",
   "metadata": {},
   "outputs": [
    {
     "name": "stdout",
     "output_type": "stream",
     "text": [
      "{'runs': 100, 'balls': 50, 'fours': 10, 'sixes': 5, 'sr': 200.0, 'bpb': 3.3333333333333335, 'boundary_percent': 70.0, 'summary': '\\n    Batsman Performance Summary:\\n    \\n    Strike Rate: 200.0 \\n\\n    Balls Per Boundary: 3.3333333333333335 \\n\\n    Boundary Percentage: 70.0\\n    '}\n"
     ]
    }
   ],
   "source": [
    "initial_state = {\n",
    "    'runs': 100,\n",
    "    'balls': 50,\n",
    "    'fours': 10,\n",
    "    'sixes': 5,\n",
    "}\n",
    "\n",
    "final_state = workflow.invoke(initial_state)\n",
    "print(final_state)\n"
   ]
  },
  {
   "cell_type": "code",
   "execution_count": null,
   "id": "302a9a80",
   "metadata": {},
   "outputs": [],
   "source": []
  }
 ],
 "metadata": {
  "kernelspec": {
   "display_name": "venv",
   "language": "python",
   "name": "python3"
  },
  "language_info": {
   "codemirror_mode": {
    "name": "ipython",
    "version": 3
   },
   "file_extension": ".py",
   "mimetype": "text/x-python",
   "name": "python",
   "nbconvert_exporter": "python",
   "pygments_lexer": "ipython3",
   "version": "3.10.12"
  }
 },
 "nbformat": 4,
 "nbformat_minor": 5
}
